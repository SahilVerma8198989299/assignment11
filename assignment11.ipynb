{
 "cells": [
  {
   "cell_type": "markdown",
   "id": "4c4ee32f-898a-4915-ae74-ebebe27ce85b",
   "metadata": {},
   "source": [
    "Q1. What is multiprocessing in python? Why is it useful?"
   ]
  },
  {
   "cell_type": "markdown",
   "id": "96f6682b-40db-4f54-89cd-e39f2bbdd639",
   "metadata": {},
   "source": [
    "In Python, multiprocessing is a module that allows you to create and manage processes to run tasks concurrently. It provides an interface for spawning processes, passing data between them, and synchronizing their execution.\n",
    "\n",
    "Multiprocessing is useful for several reasons:\n",
    "\n",
    "Increased performance: By using multiple processes, you can distribute the workload across multiple CPU cores, which can lead to significant performance improvements. This is particularly beneficial for CPU-bound tasks, where the bottleneck is the CPU rather than I/O operations.\n",
    "\n",
    "Parallel execution: Multiprocessing enables you to execute multiple tasks simultaneously, taking advantage of the available processing power. This can be especially useful for computationally intensive tasks, such as data processing, simulations, or machine learning algorithms."
   ]
  },
  {
   "cell_type": "markdown",
   "id": "706fa3c2-31e6-47a0-a97f-a7772f15c954",
   "metadata": {},
   "source": [
    "Improved responsiveness: When dealing with time-consuming operations, running them in separate processes can prevent your main program from becoming unresponsive. By offloading these tasks to separate processes, your application can continue to handle user input and remain interactive.\n",
    "\n",
    "Isolation and fault tolerance: Each process runs in its own memory space, ensuring that they don't interfere with each other. If a process crashes or encounters an error, it won't affect other processes, allowing your program to handle failures more gracefully.\n",
    "\n",
    "Utilizing multiple CPU cores: With the increasing prevalence of multi-core processors, multiprocessing allows you to leverage the full potential of your hardware. By distributing the workload across multiple cores, you can achieve better utilization and make your program more efficient."
   ]
  },
  {
   "cell_type": "markdown",
   "id": "74a7b7ff-ddb6-4d57-99cd-4ff781c816e8",
   "metadata": {},
   "source": [
    "Q2. What are the differences between multiprocessing and multithreading?"
   ]
  },
  {
   "cell_type": "markdown",
   "id": "4b924d4f-52ba-467d-b634-4e813c748d2f",
   "metadata": {},
   "source": [
    "Multiprocessing and multithreading are both techniques used for concurrent execution in Python, but they differ in how they achieve concurrency and manage resources. Here are the key differences between multiprocessing and multithreading:\n",
    "\n",
    "Execution model:\n",
    "\n",
    "Multiprocessing: It involves running multiple processes, each with its own memory space and resources. Processes are managed by the operating system, and communication between them usually involves message passing or shared memory.\n",
    "Multithreading: It involves running multiple threads within a single process, sharing the same memory space and resources. Threads are scheduled by the interpreter or the operating system, and communication between threads is typically done through shared variables."
   ]
  },
  {
   "cell_type": "markdown",
   "id": "3a50bcce-80ba-49be-b679-de01035f3876",
   "metadata": {},
   "source": [
    "Resource allocation:\n",
    "\n",
    "Multiprocessing: Each process has its own memory space, which provides isolation and avoids interference between processes. However, it also means that sharing data between processes requires explicit mechanisms like inter-process communication (IPC) or shared memory.\n",
    "Multithreading: Threads within a process share the same memory space, allowing them to access and modify shared data more easily. However, this shared memory can also lead to potential data races and synchronization issues, requiring the use of synchronization primitives like locks or semaphores.\n",
    "\n",
    "\n",
    "Concurrency and parallelism:\n",
    "\n",
    "Multiprocessing: Multiple processes can run truly in parallel on different CPU cores, utilizing multiple cores for increased performance. This is suitable for CPU-bound tasks that benefit from parallel execution.\n",
    "Multithreading: Threads run concurrently within a single process, and their execution can be interleaved by the interpreter or operating system. However, due to the Global Interpreter Lock (GIL) in CPython (the reference implementation), only one thread can execute Python bytecode at a time, limiting true parallelism. As a result, multithreading is more suitable for I/O-bound tasks that involve waiting for external resources.\n",
    "\n",
    "\n",
    "Scalability:\n",
    "\n",
    "Multiprocessing: Since processes have separate memory spaces, they are more scalable and can take advantage of multiple CPU cores effectively. However, creating and managing processes incurs more overhead compared to threads.\n",
    "Multithreading: Threads are lightweight compared to processes, so creating and switching between threads has less overhead. However, the GIL in CPython can limit scalability in CPU-bound scenarios."
   ]
  },
  {
   "cell_type": "markdown",
   "id": "a4b8abe1-8681-405d-9b4c-6d7dbf89b4f0",
   "metadata": {},
   "source": [
    "Q3. Write a python code to create a process using the multiprocessing module."
   ]
  },
  {
   "cell_type": "code",
   "execution_count": 1,
   "id": "37877f1f-c61b-4688-ae86-cdc63dc00225",
   "metadata": {},
   "outputs": [
    {
     "name": "stdout",
     "output_type": "stream",
     "text": [
      "Worker process executing.\n",
      "Main process exiting.\n"
     ]
    }
   ],
   "source": [
    "import multiprocessing\n",
    "\n",
    "def worker():\n",
    "    \"\"\"A simple function to be executed in a separate process.\"\"\"\n",
    "    print(\"Worker process executing.\")\n",
    "\n",
    "if __name__ == '__main__':\n",
    "    # Create a Process object\n",
    "    process = multiprocessing.Process(target=worker)\n",
    "\n",
    "    # Start the process\n",
    "    process.start()\n",
    "\n",
    "    # Wait for the process to finish\n",
    "    process.join()\n",
    "\n",
    "    print(\"Main process exiting.\")\n"
   ]
  },
  {
   "cell_type": "markdown",
   "id": "e5d42090-2649-49c1-8c09-df6495da12b1",
   "metadata": {},
   "source": [
    "Q4. What is a multiprocessing pool in python? Why is it used?"
   ]
  },
  {
   "cell_type": "markdown",
   "id": "06979774-2de7-4002-851c-10fb1cef3dbf",
   "metadata": {},
   "source": [
    "In Python, a multiprocessing pool is a high-level abstraction provided by the multiprocessing module. It allows you to create a pool of worker processes that can execute tasks concurrently. The pool manages the creation, distribution, and collection of tasks among the worker processes.\n",
    "\n",
    "Here's how a multiprocessing pool works:\n",
    "\n",
    "Creating a pool: You create a pool of worker processes by instantiating the multiprocessing.Pool class and specifying the number of processes to use. The number of processes can be explicitly set or defaults to the number of CPU cores on your system.\n",
    "\n",
    "Submitting tasks: You submit tasks to the pool using the apply(), map(), or imap() methods. These methods take a function and the required arguments for the function. The pool distributes the tasks among the worker processes, which execute them concurrently."
   ]
  },
  {
   "cell_type": "markdown",
   "id": "cccbc491-f465-4456-8f39-1d25993458b7",
   "metadata": {},
   "source": [
    "Task execution: The worker processes in the pool execute the submitted tasks in parallel. Each worker takes a task from the pool, executes it, and then returns the result.\n",
    "\n",
    "Result collection: The pool collects the results returned by the worker processes and provides them to you. The results can be obtained using the apply(), map(), or imap() methods, depending on how you submitted the tasks.\n",
    "\n",
    "The multiprocessing pool is used for several reasons:"
   ]
  },
  {
   "cell_type": "markdown",
   "id": "5b7dc63c-4816-4556-a8ac-2cc0353ec4cb",
   "metadata": {},
   "source": [
    "Concurrent execution: By using a pool of worker processes, you can execute multiple tasks concurrently. This is particularly useful for CPU-bound tasks, where parallel execution can significantly improve performance.\n",
    "\n",
    "Load distribution: The pool automatically distributes the submitted tasks among the worker processes, ensuring that the workload is evenly distributed. This helps to utilize the available CPU resources efficiently.\n",
    "\n",
    "Task result handling: The pool handles the collection of results from the worker processes. It provides convenient methods like map() or imap() to obtain the results, abstracting the complexities of inter-process communication.\n",
    "\n",
    "Resource management: The multiprocessing pool manages the creation, synchronization, and termination of worker processes. It handles the creation and destruction of processes, minimizing the overhead of process creation for each task."
   ]
  },
  {
   "cell_type": "markdown",
   "id": "db9abdd1-0907-408c-9668-caf18ce00b50",
   "metadata": {},
   "source": [
    "Q5. How can we create a pool of worker processes in python using the multiprocessing module?"
   ]
  },
  {
   "cell_type": "markdown",
   "id": "36c9224a-b203-4ff8-b23d-401ed755a6f0",
   "metadata": {},
   "source": [
    "To create a pool of worker processes in Python using the multiprocessing module, you can follow these steps:\n",
    "\n",
    "Import the necessary module:"
   ]
  },
  {
   "cell_type": "markdown",
   "id": "3beb4a1e-5277-490c-8998-ae7bd5ec338a",
   "metadata": {},
   "source": [
    "Define a function that represents the task you want to execute in parallel. This function will be called by the worker processes. For example:"
   ]
  },
  {
   "cell_type": "code",
   "execution_count": 2,
   "id": "acd14f47-d060-45f2-a56d-5bbedd482bbb",
   "metadata": {},
   "outputs": [],
   "source": [
    "def worker_task(num):\n",
    "    result = num * 2\n",
    "    return result\n"
   ]
  },
  {
   "cell_type": "markdown",
   "id": "de63284d-62bc-4de7-abbe-0799b8030ce7",
   "metadata": {},
   "source": [
    "Create a Pool object by instantiating the multiprocessing.Pool class. Specify the number of worker processes to use. If you don't specify the number of processes, it will default to the number of CPU cores on your system. For example, to create a pool with 4 worker processes:"
   ]
  },
  {
   "cell_type": "code",
   "execution_count": 3,
   "id": "08521d86-fde6-4c0c-b967-0929f6922f7d",
   "metadata": {},
   "outputs": [],
   "source": [
    "pool = multiprocessing.Pool(processes=4)\n"
   ]
  },
  {
   "cell_type": "markdown",
   "id": "f05b5970-3e4d-4b30-bf3b-a4cef837a292",
   "metadata": {},
   "source": [
    "Submit tasks to the pool for execution. You can use the apply(), map(), or imap() methods, depending on your needs.\n",
    "\n",
    "apply(): Submit a single task and get the result synchronously.\n",
    "\n",
    "map(): Submit multiple tasks and get the results as a list in the order of submission.\n",
    "\n",
    "imap(): Submit multiple tasks and get an iterator to retrieve results as they become available.\n",
    "\n",
    "Here's an example using the map() method:"
   ]
  },
  {
   "cell_type": "code",
   "execution_count": 4,
   "id": "c53cac89-14cd-4592-b7b1-6893daf2676b",
   "metadata": {},
   "outputs": [
    {
     "name": "stdout",
     "output_type": "stream",
     "text": [
      "[2, 4, 6, 8, 10]\n"
     ]
    }
   ],
   "source": [
    "# Submit tasks to the pool\n",
    "results = pool.map(worker_task, [1, 2, 3, 4, 5])\n",
    "\n",
    "# Print the results\n",
    "print(results)\n"
   ]
  },
  {
   "cell_type": "markdown",
   "id": "3c2cbf84-9ab4-41c7-bed5-dd7e67670286",
   "metadata": {},
   "source": [
    "Close the pool to prevent further task submission and allow the worker processes to finish their current tasks:\n"
   ]
  },
  {
   "cell_type": "code",
   "execution_count": 5,
   "id": "bbf69267-0e68-4457-b961-ca3f5d330509",
   "metadata": {},
   "outputs": [],
   "source": [
    "pool.close()\n"
   ]
  },
  {
   "cell_type": "markdown",
   "id": "7af3b5e1-2a02-408c-b39f-2950bcc27ddc",
   "metadata": {},
   "source": [
    "Wait for the worker processes to complete their tasks and terminate:"
   ]
  },
  {
   "cell_type": "code",
   "execution_count": 6,
   "id": "fea51f1f-1050-4952-ba1d-7bdacc44149a",
   "metadata": {},
   "outputs": [],
   "source": [
    "pool.join()\n"
   ]
  },
  {
   "cell_type": "markdown",
   "id": "59d14219-be0e-430d-aa73-645296c2e87a",
   "metadata": {},
   "source": [
    "Q6. Write a python program to create 4 processes, each process should print a different number using the\n",
    "multiprocessing module in python."
   ]
  },
  {
   "cell_type": "code",
   "execution_count": 8,
   "id": "3bef1ddf-dcd9-46be-860f-02e775b93060",
   "metadata": {},
   "outputs": [
    {
     "name": "stdout",
     "output_type": "stream",
     "text": [
      "Process 1: 1Process 3: 3Process 2: 2Process 4: 4\n",
      "\n",
      "\n",
      "\n"
     ]
    }
   ],
   "source": [
    "import multiprocessing\n",
    "\n",
    "def print_number(num):\n",
    "    \"\"\"Function to print a number.\"\"\"\n",
    "    print(f\"Process {num}: {num}\")\n",
    "\n",
    "if __name__ == '__main__':\n",
    "    # Create a list of numbers\n",
    "    numbers = [1, 2, 3, 4]\n",
    "\n",
    "    # Create a pool of processes\n",
    "    pool = multiprocessing.Pool(processes=4)\n",
    "\n",
    "    # Submit tasks to the pool\n",
    "    pool.map(print_number, numbers)\n",
    "\n",
    "    # Close the pool\n",
    "    pool.close()\n",
    "\n",
    "    # Wait for the processes to finish\n",
    "    pool.join()\n"
   ]
  },
  {
   "cell_type": "code",
   "execution_count": null,
   "id": "8d485ee3-920e-46aa-b9a2-50aa6e87b135",
   "metadata": {},
   "outputs": [],
   "source": []
  }
 ],
 "metadata": {
  "kernelspec": {
   "display_name": "Python 3 (ipykernel)",
   "language": "python",
   "name": "python3"
  },
  "language_info": {
   "codemirror_mode": {
    "name": "ipython",
    "version": 3
   },
   "file_extension": ".py",
   "mimetype": "text/x-python",
   "name": "python",
   "nbconvert_exporter": "python",
   "pygments_lexer": "ipython3",
   "version": "3.10.8"
  }
 },
 "nbformat": 4,
 "nbformat_minor": 5
}
